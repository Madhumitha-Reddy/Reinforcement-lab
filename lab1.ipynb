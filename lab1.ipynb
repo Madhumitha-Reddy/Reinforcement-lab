{
  "nbformat": 4,
  "nbformat_minor": 0,
  "metadata": {
    "colab": {
      "provenance": [],
      "authorship_tag": "ABX9TyMushldBvrZk64ga9mbkErg",
      "include_colab_link": true
    },
    "kernelspec": {
      "name": "python3",
      "display_name": "Python 3"
    },
    "language_info": {
      "name": "python"
    }
  },
  "cells": [
    {
      "cell_type": "markdown",
      "metadata": {
        "id": "view-in-github",
        "colab_type": "text"
      },
      "source": [
        "<a href=\"https://colab.research.google.com/github/Madhumitha-Reddy/Reinforcement-lab/blob/main/lab1.ipynb\" target=\"_parent\"><img src=\"https://colab.research.google.com/assets/colab-badge.svg\" alt=\"Open In Colab\"/></a>"
      ]
    },
    {
      "cell_type": "code",
      "execution_count": 1,
      "metadata": {
        "id": "Kfwg-YiPtLIV"
      },
      "outputs": [],
      "source": [
        "import gymnasium as gym\n",
        "import numpy as np"
      ]
    },
    {
      "cell_type": "code",
      "source": [
        "env = gym.make(\"FrozenLake-v1\", is_slippery=False)"
      ],
      "metadata": {
        "id": "fJqlSrILwdx4"
      },
      "execution_count": 2,
      "outputs": []
    },
    {
      "cell_type": "code",
      "source": [
        "n_states = env.observation_space.n\n",
        "n_actions = env.action_space.n\n",
        "gamma = 0.99\n",
        "theta = 1e-8"
      ],
      "metadata": {
        "id": "iR_j9wEcwivm"
      },
      "execution_count": 3,
      "outputs": []
    },
    {
      "cell_type": "code",
      "source": [
        "def value_iteration(env):\n",
        "    V = np.zeros(n_states)\n",
        "    while True:\n",
        "        delta = 0\n",
        "        for s in range(n_states):\n",
        "            q_values = []\n",
        "            for a in range(n_actions):\n",
        "                q = 0\n",
        "                for prob, next_state, reward, done in env.unwrapped.P[s][a]:\n",
        "                    q += prob * (reward + gamma * V[next_state])\n",
        "                q_values.append(q)\n",
        "            max_q = max(q_values)\n",
        "            delta = max(delta, abs(V[s] - max_q))\n",
        "            V[s] = max_q\n",
        "        if delta < theta:\n",
        "            break\n",
        "\n",
        "    policy = np.zeros(n_states, dtype=int)\n",
        "    for s in range(n_states):\n",
        "        q_values = []\n",
        "        for a in range(n_actions):\n",
        "            q = 0\n",
        "            for prob, next_state, reward, done in env.unwrapped.P[s][a]:\n",
        "                q += prob * (reward + gamma * V[next_state])\n",
        "            q_values.append(q)\n",
        "        policy[s] = np.argmax(q_values)\n",
        "    return policy, V"
      ],
      "metadata": {
        "id": "LR_8TjSawll_"
      },
      "execution_count": 12,
      "outputs": []
    },
    {
      "cell_type": "code",
      "source": [
        "def policy_iteration(env):\n",
        "   policy = np.zeros(n_states, dtype=int)\n",
        "   V = np.zeros(n_states)\n",
        "\n",
        "   while True:\n",
        "       # Policy Evaluation\n",
        "       while True:\n",
        "           delta = 0\n",
        "           for s in range(n_states):\n",
        "               v = 0\n",
        "               a = policy[s]\n",
        "               for prob, next_state, reward, done in env.unwrapped.P[s][a]:\n",
        "                   v += prob * (reward + gamma * V[next_state])\n",
        "               delta = max(delta, abs(V[s] - v))\n",
        "               V[s] = v\n",
        "           if delta < theta:\n",
        "               break\n",
        "\n",
        "       # Policy Improvement\n",
        "       policy_stable = True\n",
        "       for s in range(n_states):\n",
        "           old_action = policy[s]\n",
        "           q_values = []\n",
        "           for a in range(n_actions):\n",
        "               q = 0\n",
        "               for prob, next_state, reward, done in env.unwrapped.P[s][a]:\n",
        "                   q += prob * (reward + gamma * V[next_state])\n",
        "               q_values.append(q)\n",
        "           new_action = np.argmax(q_values)\n",
        "           policy[s] = new_action\n",
        "           if old_action != new_action:\n",
        "               policy_stable = False\n",
        "\n",
        "       if policy_stable:\n",
        "           break\n",
        "\n",
        "   return policy, V"
      ],
      "metadata": {
        "id": "Ml-meRCvxvnR"
      },
      "execution_count": 13,
      "outputs": []
    },
    {
      "cell_type": "code",
      "source": [
        "def run_policy(env, policy, render=False):\n",
        "   total_rewards = 0\n",
        "   state, _ = env.reset()\n",
        "   while True:\n",
        "       if render:\n",
        "           env.render()\n",
        "       action = policy[state]\n",
        "       state, reward, terminated, truncated, _ = env.step(action)\n",
        "       total_rewards += reward\n",
        "       if terminated or truncated:\n",
        "           break\n",
        "   return total_rewards"
      ],
      "metadata": {
        "id": "2l3hvPrKx2Gd"
      },
      "execution_count": 10,
      "outputs": []
    },
    {
      "cell_type": "markdown",
      "source": [
        "Run Value Iteration"
      ],
      "metadata": {
        "id": "kxyw-THKyI_y"
      }
    },
    {
      "cell_type": "code",
      "source": [
        "vi_policy, vi_V = value_iteration(env)\n",
        "vi_rewards = [run_policy(env, vi_policy) for _ in range(100)]\n",
        "print(\"Value Iteration - Average Reward over 100 episodes:\", np.mean(vi_rewards))"
      ],
      "metadata": {
        "colab": {
          "base_uri": "https://localhost:8080/"
        },
        "id": "Ul6SYFWqx8OY",
        "outputId": "dbbfab6e-f9e4-4ba5-d4a4-2b1319239e4f"
      },
      "execution_count": 14,
      "outputs": [
        {
          "output_type": "stream",
          "name": "stdout",
          "text": [
            "Value Iteration - Average Reward over 100 episodes: 1.0\n"
          ]
        }
      ]
    },
    {
      "cell_type": "markdown",
      "source": [
        "Run Policy Iteration"
      ],
      "metadata": {
        "id": "Y8wlwMd2yN4R"
      }
    },
    {
      "cell_type": "code",
      "source": [
        "pi_policy, pi_V = policy_iteration(env)\n",
        "pi_rewards = [run_policy(env, pi_policy) for _ in range(100)]\n",
        "print(\"Policy Iteration - Average Reward over 100 episodes:\", np.mean(pi_rewards))"
      ],
      "metadata": {
        "colab": {
          "base_uri": "https://localhost:8080/"
        },
        "id": "oqd-zW0AyFYI",
        "outputId": "4acb0286-c9b4-4e5f-b695-dfb0c643a0f4"
      },
      "execution_count": 15,
      "outputs": [
        {
          "output_type": "stream",
          "name": "stdout",
          "text": [
            "Policy Iteration - Average Reward over 100 episodes: 1.0\n"
          ]
        }
      ]
    }
  ]
}